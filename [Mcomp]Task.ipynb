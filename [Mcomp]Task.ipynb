{
 "cells": [
  {
   "cell_type": "code",
   "execution_count": 1,
   "metadata": {},
   "outputs": [],
   "source": [
    "import pandas as pd"
   ]
  },
  {
   "cell_type": "code",
   "execution_count": 2,
   "metadata": {},
   "outputs": [
    {
     "data": {
      "text/html": [
       "<div>\n",
       "<style scoped>\n",
       "    .dataframe tbody tr th:only-of-type {\n",
       "        vertical-align: middle;\n",
       "    }\n",
       "\n",
       "    .dataframe tbody tr th {\n",
       "        vertical-align: top;\n",
       "    }\n",
       "\n",
       "    .dataframe thead th {\n",
       "        text-align: right;\n",
       "    }\n",
       "</style>\n",
       "<table border=\"1\" class=\"dataframe\">\n",
       "  <thead>\n",
       "    <tr style=\"text-align: right;\">\n",
       "      <th></th>\n",
       "      <th>site</th>\n",
       "      <th>dt</th>\n",
       "      <th>resp</th>\n",
       "      <th>dur</th>\n",
       "      <th>hit</th>\n",
       "    </tr>\n",
       "  </thead>\n",
       "  <tbody>\n",
       "    <tr>\n",
       "      <th>0</th>\n",
       "      <td>vkontakte.ru</td>\n",
       "      <td>2015-01-01</td>\n",
       "      <td>1</td>\n",
       "      <td>91</td>\n",
       "      <td>15</td>\n",
       "    </tr>\n",
       "    <tr>\n",
       "      <th>1</th>\n",
       "      <td>vkontakte.ru</td>\n",
       "      <td>2015-01-01</td>\n",
       "      <td>2</td>\n",
       "      <td>21</td>\n",
       "      <td>1</td>\n",
       "    </tr>\n",
       "    <tr>\n",
       "      <th>2</th>\n",
       "      <td>vkontakte.ru</td>\n",
       "      <td>2015-01-01</td>\n",
       "      <td>3</td>\n",
       "      <td>59</td>\n",
       "      <td>6</td>\n",
       "    </tr>\n",
       "    <tr>\n",
       "      <th>3</th>\n",
       "      <td>vkontakte.ru</td>\n",
       "      <td>2015-01-01</td>\n",
       "      <td>4</td>\n",
       "      <td>10</td>\n",
       "      <td>2</td>\n",
       "    </tr>\n",
       "    <tr>\n",
       "      <th>4</th>\n",
       "      <td>vkontakte.ru</td>\n",
       "      <td>2015-01-01</td>\n",
       "      <td>5</td>\n",
       "      <td>18</td>\n",
       "      <td>2</td>\n",
       "    </tr>\n",
       "  </tbody>\n",
       "</table>\n",
       "</div>"
      ],
      "text/plain": [
       "           site         dt  resp  dur  hit\n",
       "0  vkontakte.ru 2015-01-01     1   91   15\n",
       "1  vkontakte.ru 2015-01-01     2   21    1\n",
       "2  vkontakte.ru 2015-01-01     3   59    6\n",
       "3  vkontakte.ru 2015-01-01     4   10    2\n",
       "4  vkontakte.ru 2015-01-01     5   18    2"
      ]
     },
     "execution_count": 2,
     "metadata": {},
     "output_type": "execute_result"
    }
   ],
   "source": [
    "Site = pd.read_excel('Site.xlsx', sheet_name='Site')\n",
    "Site.head()"
   ]
  },
  {
   "cell_type": "code",
   "execution_count": 3,
   "metadata": {},
   "outputs": [
    {
     "data": {
      "text/html": [
       "<div>\n",
       "<style scoped>\n",
       "    .dataframe tbody tr th:only-of-type {\n",
       "        vertical-align: middle;\n",
       "    }\n",
       "\n",
       "    .dataframe tbody tr th {\n",
       "        vertical-align: top;\n",
       "    }\n",
       "\n",
       "    .dataframe thead th {\n",
       "        text-align: right;\n",
       "    }\n",
       "</style>\n",
       "<table border=\"1\" class=\"dataframe\">\n",
       "  <thead>\n",
       "    <tr style=\"text-align: right;\">\n",
       "      <th></th>\n",
       "      <th>resp</th>\n",
       "      <th>dt</th>\n",
       "      <th>weight</th>\n",
       "    </tr>\n",
       "  </thead>\n",
       "  <tbody>\n",
       "    <tr>\n",
       "      <th>0</th>\n",
       "      <td>1</td>\n",
       "      <td>2015-01-01</td>\n",
       "      <td>2.751892</td>\n",
       "    </tr>\n",
       "    <tr>\n",
       "      <th>1</th>\n",
       "      <td>2</td>\n",
       "      <td>2015-01-01</td>\n",
       "      <td>5.217999</td>\n",
       "    </tr>\n",
       "    <tr>\n",
       "      <th>2</th>\n",
       "      <td>3</td>\n",
       "      <td>2015-01-01</td>\n",
       "      <td>2.444452</td>\n",
       "    </tr>\n",
       "    <tr>\n",
       "      <th>3</th>\n",
       "      <td>4</td>\n",
       "      <td>2015-01-01</td>\n",
       "      <td>12.956964</td>\n",
       "    </tr>\n",
       "    <tr>\n",
       "      <th>4</th>\n",
       "      <td>5</td>\n",
       "      <td>2015-01-01</td>\n",
       "      <td>6.674970</td>\n",
       "    </tr>\n",
       "  </tbody>\n",
       "</table>\n",
       "</div>"
      ],
      "text/plain": [
       "   resp         dt     weight\n",
       "0     1 2015-01-01   2.751892\n",
       "1     2 2015-01-01   5.217999\n",
       "2     3 2015-01-01   2.444452\n",
       "3     4 2015-01-01  12.956964\n",
       "4     5 2015-01-01   6.674970"
      ]
     },
     "execution_count": 3,
     "metadata": {},
     "output_type": "execute_result"
    }
   ],
   "source": [
    "Weight = pd.read_excel('Weight.xlsx', sheet_name='Weight')\n",
    "Weight.head()"
   ]
  },
  {
   "cell_type": "markdown",
   "metadata": {},
   "source": [
    "**Посчитайте время, которое в среднем проводят пользователи на каждом сайте в каждый день**"
   ]
  },
  {
   "cell_type": "raw",
   "metadata": {},
   "source": [
    "SQL\n",
    "\n",
    "SELECT site, dt, AVG(dur)\n",
    "FROM Site\n",
    "GROUP BY site, dt"
   ]
  },
  {
   "cell_type": "code",
   "execution_count": 4,
   "metadata": {
    "scrolled": false
   },
   "outputs": [
    {
     "data": {
      "text/plain": [
       "site          dt        \n",
       "mail.ru       2015-01-01     630.000000\n",
       "              2015-01-02     629.050000\n",
       "              2015-01-03    1459.875000\n",
       "              2015-01-04    1242.785714\n",
       "              2015-01-05     779.823529\n",
       "              2015-01-06     618.312500\n",
       "              2015-01-07     971.466667\n",
       "              2015-01-08     649.812500\n",
       "              2015-01-09     647.764706\n",
       "              2015-01-10     917.785714\n",
       "              2015-01-11    1398.062500\n",
       "              2015-01-12    1066.800000\n",
       "              2015-01-13    1840.812500\n",
       "              2015-01-14    1442.928571\n",
       "              2015-01-15    1961.470588\n",
       "              2015-01-16    1712.125000\n",
       "              2015-01-17    1319.000000\n",
       "              2015-01-18    1147.600000\n",
       "              2015-01-19    1636.538462\n",
       "              2015-01-20    2011.000000\n",
       "              2015-01-21    1179.000000\n",
       "              2015-01-22    2024.285714\n",
       "              2015-01-23    2239.538462\n",
       "              2015-01-24    1375.647059\n",
       "              2015-01-25    1843.285714\n",
       "              2015-01-26    1462.937500\n",
       "              2015-01-27    1437.235294\n",
       "              2015-01-28    1484.250000\n",
       "              2015-01-29    1378.083333\n",
       "              2015-01-30    1102.600000\n",
       "                               ...     \n",
       "vkontakte.ru  2015-01-30      13.636364\n",
       "              2015-01-31      25.363636\n",
       "              2015-02-01      40.750000\n",
       "              2015-02-02      14.333333\n",
       "              2015-02-03      81.375000\n",
       "              2015-02-04      19.428571\n",
       "              2015-02-05      14.454545\n",
       "              2015-02-06      21.666667\n",
       "              2015-02-07      50.642857\n",
       "              2015-02-08      28.153846\n",
       "              2015-02-09      12.500000\n",
       "              2015-02-10      13.727273\n",
       "              2015-02-11      21.000000\n",
       "              2015-02-12       8.300000\n",
       "              2015-02-13      11.214286\n",
       "              2015-02-14      17.818182\n",
       "              2015-02-15      22.500000\n",
       "              2015-02-16       8.461538\n",
       "              2015-02-17       9.555556\n",
       "              2015-02-18       8.000000\n",
       "              2015-02-19      19.333333\n",
       "              2015-02-20      13.300000\n",
       "              2015-02-21      20.714286\n",
       "              2015-02-22      13.666667\n",
       "              2015-02-23      17.222222\n",
       "              2015-02-24      92.625000\n",
       "              2015-02-25      31.272727\n",
       "              2015-02-26      22.333333\n",
       "              2015-02-27      34.250000\n",
       "              2015-02-28      41.888889\n",
       "Name: dur, Length: 118, dtype: float64"
      ]
     },
     "execution_count": 4,
     "metadata": {},
     "output_type": "execute_result"
    }
   ],
   "source": [
    "timecounteveryday = Site.groupby(['site', 'dt']).dur.mean()\n",
    "timecounteveryday"
   ]
  },
  {
   "cell_type": "markdown",
   "metadata": {},
   "source": [
    "**Сколько в среднем в день пользователи провели времени на каждом сайте в январе 2015**"
   ]
  },
  {
   "cell_type": "raw",
   "metadata": {},
   "source": [
    "SQL\n",
    "\n",
    "SELECT site, AVG(dur)\n",
    "FROM Site\n",
    "WHERE dt < '2019.02.01'\n",
    "GROUP BY site, dt"
   ]
  },
  {
   "cell_type": "code",
   "execution_count": 5,
   "metadata": {},
   "outputs": [
    {
     "data": {
      "text/html": [
       "<div>\n",
       "<style scoped>\n",
       "    .dataframe tbody tr th:only-of-type {\n",
       "        vertical-align: middle;\n",
       "    }\n",
       "\n",
       "    .dataframe tbody tr th {\n",
       "        vertical-align: top;\n",
       "    }\n",
       "\n",
       "    .dataframe thead th {\n",
       "        text-align: right;\n",
       "    }\n",
       "</style>\n",
       "<table border=\"1\" class=\"dataframe\">\n",
       "  <thead>\n",
       "    <tr style=\"text-align: right;\">\n",
       "      <th></th>\n",
       "      <th>site</th>\n",
       "      <th>dt</th>\n",
       "      <th>resp</th>\n",
       "      <th>dur</th>\n",
       "      <th>hit</th>\n",
       "    </tr>\n",
       "  </thead>\n",
       "  <tbody>\n",
       "    <tr>\n",
       "      <th>0</th>\n",
       "      <td>vkontakte.ru</td>\n",
       "      <td>2015.01.01</td>\n",
       "      <td>1</td>\n",
       "      <td>91</td>\n",
       "      <td>15</td>\n",
       "    </tr>\n",
       "    <tr>\n",
       "      <th>1</th>\n",
       "      <td>vkontakte.ru</td>\n",
       "      <td>2015.01.01</td>\n",
       "      <td>2</td>\n",
       "      <td>21</td>\n",
       "      <td>1</td>\n",
       "    </tr>\n",
       "    <tr>\n",
       "      <th>2</th>\n",
       "      <td>vkontakte.ru</td>\n",
       "      <td>2015.01.01</td>\n",
       "      <td>3</td>\n",
       "      <td>59</td>\n",
       "      <td>6</td>\n",
       "    </tr>\n",
       "    <tr>\n",
       "      <th>3</th>\n",
       "      <td>vkontakte.ru</td>\n",
       "      <td>2015.01.01</td>\n",
       "      <td>4</td>\n",
       "      <td>10</td>\n",
       "      <td>2</td>\n",
       "    </tr>\n",
       "    <tr>\n",
       "      <th>4</th>\n",
       "      <td>vkontakte.ru</td>\n",
       "      <td>2015.01.01</td>\n",
       "      <td>5</td>\n",
       "      <td>18</td>\n",
       "      <td>2</td>\n",
       "    </tr>\n",
       "  </tbody>\n",
       "</table>\n",
       "</div>"
      ],
      "text/plain": [
       "           site          dt  resp  dur  hit\n",
       "0  vkontakte.ru  2015.01.01     1   91   15\n",
       "1  vkontakte.ru  2015.01.01     2   21    1\n",
       "2  vkontakte.ru  2015.01.01     3   59    6\n",
       "3  vkontakte.ru  2015.01.01     4   10    2\n",
       "4  vkontakte.ru  2015.01.01     5   18    2"
      ]
     },
     "execution_count": 5,
     "metadata": {},
     "output_type": "execute_result"
    }
   ],
   "source": [
    "df = pd.read_csv('Site.csv')\n",
    "df.head()"
   ]
  },
  {
   "cell_type": "code",
   "execution_count": 6,
   "metadata": {},
   "outputs": [
    {
     "data": {
      "text/plain": [
       "Index(['site', 'dt', 'resp', 'dur', 'hit'], dtype='object')"
      ]
     },
     "execution_count": 6,
     "metadata": {},
     "output_type": "execute_result"
    }
   ],
   "source": [
    "df.columns"
   ]
  },
  {
   "cell_type": "code",
   "execution_count": 7,
   "metadata": {},
   "outputs": [],
   "source": [
    "df.set_axis(['site', 'day', 'resp', 'dur', 'hit'], axis = 'columns', inplace = True)"
   ]
  },
  {
   "cell_type": "code",
   "execution_count": 8,
   "metadata": {
    "scrolled": true
   },
   "outputs": [
    {
     "data": {
      "text/html": [
       "<div>\n",
       "<style scoped>\n",
       "    .dataframe tbody tr th:only-of-type {\n",
       "        vertical-align: middle;\n",
       "    }\n",
       "\n",
       "    .dataframe tbody tr th {\n",
       "        vertical-align: top;\n",
       "    }\n",
       "\n",
       "    .dataframe thead th {\n",
       "        text-align: right;\n",
       "    }\n",
       "</style>\n",
       "<table border=\"1\" class=\"dataframe\">\n",
       "  <thead>\n",
       "    <tr style=\"text-align: right;\">\n",
       "      <th></th>\n",
       "      <th>site</th>\n",
       "      <th>day</th>\n",
       "      <th>resp</th>\n",
       "      <th>dur</th>\n",
       "      <th>hit</th>\n",
       "      <th>jan_15</th>\n",
       "    </tr>\n",
       "  </thead>\n",
       "  <tbody>\n",
       "    <tr>\n",
       "      <th>0</th>\n",
       "      <td>vkontakte.ru</td>\n",
       "      <td>2015.01.01</td>\n",
       "      <td>1</td>\n",
       "      <td>91</td>\n",
       "      <td>15</td>\n",
       "      <td>1</td>\n",
       "    </tr>\n",
       "    <tr>\n",
       "      <th>1</th>\n",
       "      <td>vkontakte.ru</td>\n",
       "      <td>2015.01.01</td>\n",
       "      <td>2</td>\n",
       "      <td>21</td>\n",
       "      <td>1</td>\n",
       "      <td>1</td>\n",
       "    </tr>\n",
       "    <tr>\n",
       "      <th>2</th>\n",
       "      <td>vkontakte.ru</td>\n",
       "      <td>2015.01.01</td>\n",
       "      <td>3</td>\n",
       "      <td>59</td>\n",
       "      <td>6</td>\n",
       "      <td>1</td>\n",
       "    </tr>\n",
       "    <tr>\n",
       "      <th>3</th>\n",
       "      <td>vkontakte.ru</td>\n",
       "      <td>2015.01.01</td>\n",
       "      <td>4</td>\n",
       "      <td>10</td>\n",
       "      <td>2</td>\n",
       "      <td>1</td>\n",
       "    </tr>\n",
       "    <tr>\n",
       "      <th>4</th>\n",
       "      <td>vkontakte.ru</td>\n",
       "      <td>2015.01.01</td>\n",
       "      <td>5</td>\n",
       "      <td>18</td>\n",
       "      <td>2</td>\n",
       "      <td>1</td>\n",
       "    </tr>\n",
       "  </tbody>\n",
       "</table>\n",
       "</div>"
      ],
      "text/plain": [
       "           site         day  resp  dur  hit  jan_15\n",
       "0  vkontakte.ru  2015.01.01     1   91   15       1\n",
       "1  vkontakte.ru  2015.01.01     2   21    1       1\n",
       "2  vkontakte.ru  2015.01.01     3   59    6       1\n",
       "3  vkontakte.ru  2015.01.01     4   10    2       1\n",
       "4  vkontakte.ru  2015.01.01     5   18    2       1"
      ]
     },
     "execution_count": 8,
     "metadata": {},
     "output_type": "execute_result"
    }
   ],
   "source": [
    "def jan_15(row):\n",
    "    if '2015.01' in row.day:\n",
    "        return 1\n",
    "    else:\n",
    "        return 0\n",
    "df['jan_15'] = df.apply(jan_15, axis = 1)\n",
    "df.head()"
   ]
  },
  {
   "cell_type": "code",
   "execution_count": 9,
   "metadata": {
    "scrolled": true
   },
   "outputs": [
    {
     "data": {
      "text/plain": [
       "site\n",
       "mail.ru         1292.300000\n",
       "vkontakte.ru      28.830882\n",
       "Name: dur, dtype: float64"
      ]
     },
     "execution_count": 9,
     "metadata": {},
     "output_type": "execute_result"
    }
   ],
   "source": [
    "df[df.jan_15 == 1].groupby('site').dur.mean()"
   ]
  },
  {
   "cell_type": "markdown",
   "metadata": {},
   "source": [
    "**Сколько пользователей было на сайте mail.ru в январе 2015**"
   ]
  },
  {
   "cell_type": "raw",
   "metadata": {},
   "source": [
    "SQL\n",
    "\n",
    "SELECT COUNT(resp)\n",
    "FROM Site\n",
    "WHERE dt < '2019.02.01' AND site = 'mail.ru'"
   ]
  },
  {
   "cell_type": "code",
   "execution_count": 10,
   "metadata": {},
   "outputs": [
    {
     "data": {
      "text/plain": [
       "470"
      ]
     },
     "execution_count": 10,
     "metadata": {},
     "output_type": "execute_result"
    }
   ],
   "source": [
    "df[(df.jan_15 == 1) & (df.site == 'mail.ru')].resp.count()"
   ]
  },
  {
   "cell_type": "markdown",
   "metadata": {},
   "source": [
    "**Cколько пользователей с весами было на сайте mail.ru в феврале 2015. Посчитайте для каждого пользователя средний за этот месяц вес. Сумму полученных весов для тех, кто был на сайте mail.ru в  феврале 2015.**"
   ]
  },
  {
   "cell_type": "code",
   "execution_count": 11,
   "metadata": {},
   "outputs": [
    {
     "data": {
      "text/html": [
       "<div>\n",
       "<style scoped>\n",
       "    .dataframe tbody tr th:only-of-type {\n",
       "        vertical-align: middle;\n",
       "    }\n",
       "\n",
       "    .dataframe tbody tr th {\n",
       "        vertical-align: top;\n",
       "    }\n",
       "\n",
       "    .dataframe thead th {\n",
       "        text-align: right;\n",
       "    }\n",
       "</style>\n",
       "<table border=\"1\" class=\"dataframe\">\n",
       "  <thead>\n",
       "    <tr style=\"text-align: right;\">\n",
       "      <th></th>\n",
       "      <th>resp</th>\n",
       "      <th>day</th>\n",
       "      <th>weight</th>\n",
       "    </tr>\n",
       "  </thead>\n",
       "  <tbody>\n",
       "    <tr>\n",
       "      <th>0</th>\n",
       "      <td>1</td>\n",
       "      <td>2015.01.01</td>\n",
       "      <td>2.751892</td>\n",
       "    </tr>\n",
       "    <tr>\n",
       "      <th>1</th>\n",
       "      <td>2</td>\n",
       "      <td>2015.01.01</td>\n",
       "      <td>5.217999</td>\n",
       "    </tr>\n",
       "    <tr>\n",
       "      <th>2</th>\n",
       "      <td>3</td>\n",
       "      <td>2015.01.01</td>\n",
       "      <td>2.444452</td>\n",
       "    </tr>\n",
       "    <tr>\n",
       "      <th>3</th>\n",
       "      <td>4</td>\n",
       "      <td>2015.01.01</td>\n",
       "      <td>12.956964</td>\n",
       "    </tr>\n",
       "    <tr>\n",
       "      <th>4</th>\n",
       "      <td>5</td>\n",
       "      <td>2015.01.01</td>\n",
       "      <td>6.674970</td>\n",
       "    </tr>\n",
       "  </tbody>\n",
       "</table>\n",
       "</div>"
      ],
      "text/plain": [
       "   resp         day     weight\n",
       "0     1  2015.01.01   2.751892\n",
       "1     2  2015.01.01   5.217999\n",
       "2     3  2015.01.01   2.444452\n",
       "3     4  2015.01.01  12.956964\n",
       "4     5  2015.01.01   6.674970"
      ]
     },
     "execution_count": 11,
     "metadata": {},
     "output_type": "execute_result"
    }
   ],
   "source": [
    "dfw = pd.read_csv('Weight.csv')\n",
    "dfw.set_axis(['resp', 'day', 'weight'], axis = 'columns', inplace = True)\n",
    "dfw.head()"
   ]
  },
  {
   "cell_type": "code",
   "execution_count": 12,
   "metadata": {},
   "outputs": [
    {
     "data": {
      "text/html": [
       "<div>\n",
       "<style scoped>\n",
       "    .dataframe tbody tr th:only-of-type {\n",
       "        vertical-align: middle;\n",
       "    }\n",
       "\n",
       "    .dataframe tbody tr th {\n",
       "        vertical-align: top;\n",
       "    }\n",
       "\n",
       "    .dataframe thead th {\n",
       "        text-align: right;\n",
       "    }\n",
       "</style>\n",
       "<table border=\"1\" class=\"dataframe\">\n",
       "  <thead>\n",
       "    <tr style=\"text-align: right;\">\n",
       "      <th></th>\n",
       "      <th>site</th>\n",
       "      <th>day</th>\n",
       "      <th>resp</th>\n",
       "      <th>dur</th>\n",
       "      <th>hit</th>\n",
       "    </tr>\n",
       "  </thead>\n",
       "  <tbody>\n",
       "    <tr>\n",
       "      <th>886</th>\n",
       "      <td>mail.ru</td>\n",
       "      <td>2015.02.01</td>\n",
       "      <td>3</td>\n",
       "      <td>243</td>\n",
       "      <td>3</td>\n",
       "    </tr>\n",
       "    <tr>\n",
       "      <th>887</th>\n",
       "      <td>mail.ru</td>\n",
       "      <td>2015.02.01</td>\n",
       "      <td>22</td>\n",
       "      <td>20</td>\n",
       "      <td>20</td>\n",
       "    </tr>\n",
       "    <tr>\n",
       "      <th>888</th>\n",
       "      <td>mail.ru</td>\n",
       "      <td>2015.02.01</td>\n",
       "      <td>4</td>\n",
       "      <td>32</td>\n",
       "      <td>11</td>\n",
       "    </tr>\n",
       "    <tr>\n",
       "      <th>889</th>\n",
       "      <td>mail.ru</td>\n",
       "      <td>2015.02.01</td>\n",
       "      <td>5</td>\n",
       "      <td>31</td>\n",
       "      <td>9</td>\n",
       "    </tr>\n",
       "    <tr>\n",
       "      <th>890</th>\n",
       "      <td>mail.ru</td>\n",
       "      <td>2015.02.01</td>\n",
       "      <td>6</td>\n",
       "      <td>106</td>\n",
       "      <td>3</td>\n",
       "    </tr>\n",
       "  </tbody>\n",
       "</table>\n",
       "</div>"
      ],
      "text/plain": [
       "        site         day  resp  dur  hit\n",
       "886  mail.ru  2015.02.01     3  243    3\n",
       "887  mail.ru  2015.02.01    22   20   20\n",
       "888  mail.ru  2015.02.01     4   32   11\n",
       "889  mail.ru  2015.02.01     5   31    9\n",
       "890  mail.ru  2015.02.01     6  106    3"
      ]
     },
     "execution_count": 12,
     "metadata": {},
     "output_type": "execute_result"
    }
   ],
   "source": [
    "### фильтруем пользователей за февраль на mail.ru\n",
    "dfs = df[(df.jan_15 == 0) & (df.site == 'mail.ru')]\n",
    "del dfs['jan_15']\n",
    "dfs.head()"
   ]
  },
  {
   "cell_type": "code",
   "execution_count": 13,
   "metadata": {
    "scrolled": true
   },
   "outputs": [
    {
     "data": {
      "text/html": [
       "<div>\n",
       "<style scoped>\n",
       "    .dataframe tbody tr th:only-of-type {\n",
       "        vertical-align: middle;\n",
       "    }\n",
       "\n",
       "    .dataframe tbody tr th {\n",
       "        vertical-align: top;\n",
       "    }\n",
       "\n",
       "    .dataframe thead th {\n",
       "        text-align: right;\n",
       "    }\n",
       "</style>\n",
       "<table border=\"1\" class=\"dataframe\">\n",
       "  <thead>\n",
       "    <tr style=\"text-align: right;\">\n",
       "      <th></th>\n",
       "      <th>site</th>\n",
       "      <th>day</th>\n",
       "      <th>resp</th>\n",
       "      <th>dur</th>\n",
       "      <th>hit</th>\n",
       "      <th>weight</th>\n",
       "    </tr>\n",
       "  </thead>\n",
       "  <tbody>\n",
       "    <tr>\n",
       "      <th>58</th>\n",
       "      <td>mail.ru</td>\n",
       "      <td>2015.02.05</td>\n",
       "      <td>1</td>\n",
       "      <td>15615</td>\n",
       "      <td>52</td>\n",
       "      <td>3.412753</td>\n",
       "    </tr>\n",
       "    <tr>\n",
       "      <th>73</th>\n",
       "      <td>mail.ru</td>\n",
       "      <td>2015.02.06</td>\n",
       "      <td>1</td>\n",
       "      <td>14696</td>\n",
       "      <td>9</td>\n",
       "      <td>3.734764</td>\n",
       "    </tr>\n",
       "    <tr>\n",
       "      <th>82</th>\n",
       "      <td>mail.ru</td>\n",
       "      <td>2015.02.07</td>\n",
       "      <td>1</td>\n",
       "      <td>12534</td>\n",
       "      <td>8</td>\n",
       "      <td>3.766289</td>\n",
       "    </tr>\n",
       "    <tr>\n",
       "      <th>96</th>\n",
       "      <td>mail.ru</td>\n",
       "      <td>2015.02.08</td>\n",
       "      <td>1</td>\n",
       "      <td>11591</td>\n",
       "      <td>3</td>\n",
       "      <td>3.814547</td>\n",
       "    </tr>\n",
       "    <tr>\n",
       "      <th>107</th>\n",
       "      <td>mail.ru</td>\n",
       "      <td>2015.02.09</td>\n",
       "      <td>1</td>\n",
       "      <td>9740</td>\n",
       "      <td>4</td>\n",
       "      <td>3.456392</td>\n",
       "    </tr>\n",
       "  </tbody>\n",
       "</table>\n",
       "</div>"
      ],
      "text/plain": [
       "        site         day  resp    dur  hit    weight\n",
       "58   mail.ru  2015.02.05     1  15615   52  3.412753\n",
       "73   mail.ru  2015.02.06     1  14696    9  3.734764\n",
       "82   mail.ru  2015.02.07     1  12534    8  3.766289\n",
       "96   mail.ru  2015.02.08     1  11591    3  3.814547\n",
       "107  mail.ru  2015.02.09     1   9740    4  3.456392"
      ]
     },
     "execution_count": 13,
     "metadata": {},
     "output_type": "execute_result"
    }
   ],
   "source": [
    "joined = dfs.merge(dfw, on=['resp', 'day'], how='left')\n",
    "joined.sort_values(by=['resp', 'day']).head()"
   ]
  },
  {
   "cell_type": "markdown",
   "metadata": {},
   "source": [
    "*Cколько пользователей с весами было на сайте mail.ru в феврале 2015.*"
   ]
  },
  {
   "cell_type": "raw",
   "metadata": {},
   "source": [
    "SELECT COUNT(resp)\n",
    "FROM Site s\n",
    "LEFT JOIN Weight w\n",
    "ON s.resp = w.resp AND s.day = w.day\n",
    "WHERE dt < '2019.02.01' AND site = 'mail.ru'"
   ]
  },
  {
   "cell_type": "code",
   "execution_count": 14,
   "metadata": {},
   "outputs": [
    {
     "data": {
      "text/plain": [
       "362"
      ]
     },
     "execution_count": 14,
     "metadata": {},
     "output_type": "execute_result"
    }
   ],
   "source": [
    "joined.resp.count()"
   ]
  },
  {
   "cell_type": "markdown",
   "metadata": {},
   "source": [
    "*Посчитайте для каждого пользователя средний за этот месяц вес.*"
   ]
  },
  {
   "cell_type": "raw",
   "metadata": {},
   "source": [
    "SELECT resp, AVG(weight)\n",
    "FROM Site s\n",
    "LEFT JOIN Weight w\n",
    "ON s.resp = w.resp AND s.day = w.day\n",
    "WHERE dt < '2019.02.01' AND site = 'mail.ru'\n",
    "GROUP BY resp"
   ]
  },
  {
   "cell_type": "code",
   "execution_count": 15,
   "metadata": {},
   "outputs": [
    {
     "data": {
      "text/plain": [
       "resp\n",
       "1      4.069422\n",
       "2      5.871972\n",
       "3      1.940636\n",
       "4      3.365746\n",
       "5      5.669897\n",
       "6      1.713312\n",
       "7      4.152627\n",
       "8      0.724478\n",
       "9      1.583730\n",
       "10     1.432263\n",
       "11     2.704288\n",
       "12     1.293827\n",
       "13     4.609956\n",
       "14    12.644574\n",
       "15     4.583491\n",
       "16     1.125054\n",
       "17     2.461633\n",
       "18     3.332850\n",
       "19     0.818719\n",
       "20     0.857765\n",
       "21     6.592306\n",
       "22     2.027841\n",
       "23    14.031516\n",
       "24     8.346426\n",
       "25     0.689526\n",
       "26     0.879820\n",
       "27     4.814485\n",
       "28     6.444556\n",
       "29     2.579186\n",
       "Name: weight, dtype: float64"
      ]
     },
     "execution_count": 15,
     "metadata": {},
     "output_type": "execute_result"
    }
   ],
   "source": [
    "joined.groupby('resp').weight.mean()"
   ]
  },
  {
   "cell_type": "markdown",
   "metadata": {},
   "source": [
    "*Сумму полученных весов для тех, кто был на сайте mail.ru в феврале 2015.*"
   ]
  },
  {
   "cell_type": "code",
   "execution_count": null,
   "metadata": {},
   "outputs": [],
   "source": [
    "SELECT resp, SUM(weight)\n",
    "FROM Site s\n",
    "LEFT JOIN Weight w\n",
    "ON s.resp = w.resp AND s.day = w.day\n",
    "WHERE dt < '2019.02.01' AND site = 'mail.ru'\n",
    "GROUP BY resp"
   ]
  },
  {
   "cell_type": "code",
   "execution_count": 16,
   "metadata": {},
   "outputs": [
    {
     "data": {
      "text/plain": [
       "resp\n",
       "1      32.555373\n",
       "2      11.743944\n",
       "3      46.575263\n",
       "4      20.194474\n",
       "5       5.669897\n",
       "6      42.832806\n",
       "7      20.763133\n",
       "8      13.040597\n",
       "9      25.339684\n",
       "10     15.754890\n",
       "11     13.521440\n",
       "12      6.469136\n",
       "13    119.858858\n",
       "14    341.403488\n",
       "15     22.917456\n",
       "16     31.501523\n",
       "17     17.231434\n",
       "18     69.989840\n",
       "19      3.274875\n",
       "20      6.862121\n",
       "21     85.699983\n",
       "22     44.612500\n",
       "23    140.315162\n",
       "24     41.732131\n",
       "25      0.689526\n",
       "26     20.235857\n",
       "27     28.886912\n",
       "28     64.445558\n",
       "29     51.583727\n",
       "Name: weight, dtype: float64"
      ]
     },
     "execution_count": 16,
     "metadata": {},
     "output_type": "execute_result"
    }
   ],
   "source": [
    "joined.groupby('resp').weight.sum()"
   ]
  }
 ],
 "metadata": {
  "kernelspec": {
   "display_name": "Python 3",
   "language": "python",
   "name": "python3"
  },
  "language_info": {
   "codemirror_mode": {
    "name": "ipython",
    "version": 3
   },
   "file_extension": ".py",
   "mimetype": "text/x-python",
   "name": "python",
   "nbconvert_exporter": "python",
   "pygments_lexer": "ipython3",
   "version": "3.7.3"
  }
 },
 "nbformat": 4,
 "nbformat_minor": 2
}
