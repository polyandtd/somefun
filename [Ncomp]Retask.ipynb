{
 "cells": [
  {
   "cell_type": "code",
   "execution_count": 1,
   "metadata": {},
   "outputs": [],
   "source": [
    "import pandas as pd"
   ]
  },
  {
   "cell_type": "code",
   "execution_count": 2,
   "metadata": {},
   "outputs": [
    {
     "data": {
      "text/html": [
       "<div>\n",
       "<style scoped>\n",
       "    .dataframe tbody tr th:only-of-type {\n",
       "        vertical-align: middle;\n",
       "    }\n",
       "\n",
       "    .dataframe tbody tr th {\n",
       "        vertical-align: top;\n",
       "    }\n",
       "\n",
       "    .dataframe thead th {\n",
       "        text-align: right;\n",
       "    }\n",
       "</style>\n",
       "<table border=\"1\" class=\"dataframe\">\n",
       "  <thead>\n",
       "    <tr style=\"text-align: right;\">\n",
       "      <th></th>\n",
       "      <th>store_id</th>\n",
       "      <th>period_id</th>\n",
       "      <th>sales_volume</th>\n",
       "    </tr>\n",
       "  </thead>\n",
       "  <tbody>\n",
       "    <tr>\n",
       "      <th>0</th>\n",
       "      <td>4186684</td>\n",
       "      <td>226</td>\n",
       "      <td>1004.60</td>\n",
       "    </tr>\n",
       "    <tr>\n",
       "      <th>1</th>\n",
       "      <td>5219836</td>\n",
       "      <td>226</td>\n",
       "      <td>989.00</td>\n",
       "    </tr>\n",
       "    <tr>\n",
       "      <th>2</th>\n",
       "      <td>4185865</td>\n",
       "      <td>226</td>\n",
       "      <td>827.45</td>\n",
       "    </tr>\n",
       "    <tr>\n",
       "      <th>3</th>\n",
       "      <td>4186186</td>\n",
       "      <td>226</td>\n",
       "      <td>708.40</td>\n",
       "    </tr>\n",
       "    <tr>\n",
       "      <th>4</th>\n",
       "      <td>4523929</td>\n",
       "      <td>226</td>\n",
       "      <td>690.75</td>\n",
       "    </tr>\n",
       "  </tbody>\n",
       "</table>\n",
       "</div>"
      ],
      "text/plain": [
       "   store_id  period_id  sales_volume\n",
       "0   4186684        226       1004.60\n",
       "1   5219836        226        989.00\n",
       "2   4185865        226        827.45\n",
       "3   4186186        226        708.40\n",
       "4   4523929        226        690.75"
      ]
     },
     "execution_count": 2,
     "metadata": {},
     "output_type": "execute_result"
    }
   ],
   "source": [
    "df = pd.read_csv('milk_promo_sales.csv')\n",
    "df.head()"
   ]
  },
  {
   "cell_type": "code",
   "execution_count": 3,
   "metadata": {},
   "outputs": [
    {
     "data": {
      "text/html": [
       "<div>\n",
       "<style scoped>\n",
       "    .dataframe tbody tr th:only-of-type {\n",
       "        vertical-align: middle;\n",
       "    }\n",
       "\n",
       "    .dataframe tbody tr th {\n",
       "        vertical-align: top;\n",
       "    }\n",
       "\n",
       "    .dataframe thead th {\n",
       "        text-align: right;\n",
       "    }\n",
       "</style>\n",
       "<table border=\"1\" class=\"dataframe\">\n",
       "  <thead>\n",
       "    <tr style=\"text-align: right;\">\n",
       "      <th></th>\n",
       "      <th>store_id</th>\n",
       "      <th>period_id</th>\n",
       "      <th>sales_volume</th>\n",
       "    </tr>\n",
       "  </thead>\n",
       "  <tbody>\n",
       "    <tr>\n",
       "      <th>724224</th>\n",
       "      <td>4168621</td>\n",
       "      <td>191</td>\n",
       "      <td>2.25</td>\n",
       "    </tr>\n",
       "    <tr>\n",
       "      <th>216520</th>\n",
       "      <td>4168621</td>\n",
       "      <td>192</td>\n",
       "      <td>6.35</td>\n",
       "    </tr>\n",
       "    <tr>\n",
       "      <th>175105</th>\n",
       "      <td>4168621</td>\n",
       "      <td>193</td>\n",
       "      <td>7.05</td>\n",
       "    </tr>\n",
       "    <tr>\n",
       "      <th>699084</th>\n",
       "      <td>4168621</td>\n",
       "      <td>194</td>\n",
       "      <td>2.50</td>\n",
       "    </tr>\n",
       "    <tr>\n",
       "      <th>780957</th>\n",
       "      <td>4168621</td>\n",
       "      <td>195</td>\n",
       "      <td>1.70</td>\n",
       "    </tr>\n",
       "  </tbody>\n",
       "</table>\n",
       "</div>"
      ],
      "text/plain": [
       "        store_id  period_id  sales_volume\n",
       "724224   4168621        191          2.25\n",
       "216520   4168621        192          6.35\n",
       "175105   4168621        193          7.05\n",
       "699084   4168621        194          2.50\n",
       "780957   4168621        195          1.70"
      ]
     },
     "execution_count": 3,
     "metadata": {},
     "output_type": "execute_result"
    }
   ],
   "source": [
    "df.sort_values(['store_id', 'period_id'], inplace=True)\n",
    "df.head()"
   ]
  },
  {
   "cell_type": "code",
   "execution_count": 4,
   "metadata": {
    "scrolled": false
   },
   "outputs": [
    {
     "data": {
      "text/html": [
       "<div>\n",
       "<style scoped>\n",
       "    .dataframe tbody tr th:only-of-type {\n",
       "        vertical-align: middle;\n",
       "    }\n",
       "\n",
       "    .dataframe tbody tr th {\n",
       "        vertical-align: top;\n",
       "    }\n",
       "\n",
       "    .dataframe thead th {\n",
       "        text-align: right;\n",
       "    }\n",
       "</style>\n",
       "<table border=\"1\" class=\"dataframe\">\n",
       "  <thead>\n",
       "    <tr style=\"text-align: right;\">\n",
       "      <th></th>\n",
       "      <th>store_id</th>\n",
       "      <th>period_id</th>\n",
       "      <th>sales_volume</th>\n",
       "    </tr>\n",
       "  </thead>\n",
       "  <tbody>\n",
       "    <tr>\n",
       "      <th>0</th>\n",
       "      <td>4168621</td>\n",
       "      <td>191</td>\n",
       "      <td>2.25</td>\n",
       "    </tr>\n",
       "    <tr>\n",
       "      <th>1</th>\n",
       "      <td>4168621</td>\n",
       "      <td>192</td>\n",
       "      <td>6.35</td>\n",
       "    </tr>\n",
       "    <tr>\n",
       "      <th>2</th>\n",
       "      <td>4168621</td>\n",
       "      <td>193</td>\n",
       "      <td>7.05</td>\n",
       "    </tr>\n",
       "    <tr>\n",
       "      <th>3</th>\n",
       "      <td>4168621</td>\n",
       "      <td>194</td>\n",
       "      <td>2.50</td>\n",
       "    </tr>\n",
       "    <tr>\n",
       "      <th>4</th>\n",
       "      <td>4168621</td>\n",
       "      <td>195</td>\n",
       "      <td>1.70</td>\n",
       "    </tr>\n",
       "  </tbody>\n",
       "</table>\n",
       "</div>"
      ],
      "text/plain": [
       "   store_id  period_id  sales_volume\n",
       "0   4168621        191          2.25\n",
       "1   4168621        192          6.35\n",
       "2   4168621        193          7.05\n",
       "3   4168621        194          2.50\n",
       "4   4168621        195          1.70"
      ]
     },
     "execution_count": 4,
     "metadata": {},
     "output_type": "execute_result"
    }
   ],
   "source": [
    "df.reset_index(inplace=True, drop=True)\n",
    "df.head()"
   ]
  },
  {
   "cell_type": "code",
   "execution_count": 5,
   "metadata": {},
   "outputs": [],
   "source": [
    "def promo_cw(row):\n",
    "    result = [0]\n",
    "    current_rating = 0\n",
    "    \n",
    "    \n",
    "    for i in range (1, len(row)):\n",
    "        current_rating += 1\n",
    "    \n",
    "        if (row.loc[i, 'period_id'] - row.loc[i-1, 'period_id'] > 1) or (row.loc[i, 'store_id'] != row.loc[i-1, 'store_id']):\n",
    "            current_rating = 0\n",
    "            \n",
    "        result.append(current_rating)\n",
    "        \n",
    "    \n",
    "    promo_cw = pd.Series(result)\n",
    "    row['promo_cw'] = promo_cw\n",
    "    return row.head()"
   ]
  },
  {
   "cell_type": "code",
   "execution_count": 6,
   "metadata": {
    "scrolled": false
   },
   "outputs": [
    {
     "data": {
      "text/html": [
       "<div>\n",
       "<style scoped>\n",
       "    .dataframe tbody tr th:only-of-type {\n",
       "        vertical-align: middle;\n",
       "    }\n",
       "\n",
       "    .dataframe tbody tr th {\n",
       "        vertical-align: top;\n",
       "    }\n",
       "\n",
       "    .dataframe thead th {\n",
       "        text-align: right;\n",
       "    }\n",
       "</style>\n",
       "<table border=\"1\" class=\"dataframe\">\n",
       "  <thead>\n",
       "    <tr style=\"text-align: right;\">\n",
       "      <th></th>\n",
       "      <th>store_id</th>\n",
       "      <th>period_id</th>\n",
       "      <th>sales_volume</th>\n",
       "      <th>promo_cw</th>\n",
       "    </tr>\n",
       "  </thead>\n",
       "  <tbody>\n",
       "    <tr>\n",
       "      <th>0</th>\n",
       "      <td>4168621</td>\n",
       "      <td>191</td>\n",
       "      <td>2.25</td>\n",
       "      <td>0</td>\n",
       "    </tr>\n",
       "    <tr>\n",
       "      <th>1</th>\n",
       "      <td>4168621</td>\n",
       "      <td>192</td>\n",
       "      <td>6.35</td>\n",
       "      <td>1</td>\n",
       "    </tr>\n",
       "    <tr>\n",
       "      <th>2</th>\n",
       "      <td>4168621</td>\n",
       "      <td>193</td>\n",
       "      <td>7.05</td>\n",
       "      <td>2</td>\n",
       "    </tr>\n",
       "    <tr>\n",
       "      <th>3</th>\n",
       "      <td>4168621</td>\n",
       "      <td>194</td>\n",
       "      <td>2.50</td>\n",
       "      <td>3</td>\n",
       "    </tr>\n",
       "    <tr>\n",
       "      <th>4</th>\n",
       "      <td>4168621</td>\n",
       "      <td>195</td>\n",
       "      <td>1.70</td>\n",
       "      <td>4</td>\n",
       "    </tr>\n",
       "  </tbody>\n",
       "</table>\n",
       "</div>"
      ],
      "text/plain": [
       "   store_id  period_id  sales_volume  promo_cw\n",
       "0   4168621        191          2.25         0\n",
       "1   4168621        192          6.35         1\n",
       "2   4168621        193          7.05         2\n",
       "3   4168621        194          2.50         3\n",
       "4   4168621        195          1.70         4"
      ]
     },
     "execution_count": 6,
     "metadata": {},
     "output_type": "execute_result"
    }
   ],
   "source": [
    "promo_cw(df)"
   ]
  },
  {
   "cell_type": "code",
   "execution_count": 7,
   "metadata": {},
   "outputs": [],
   "source": [
    "def promo_id(row):\n",
    "    current_rating_id = 1\n",
    "    result = [1]\n",
    "    \n",
    "    for i in range (1, len(row)):\n",
    "        \n",
    "        current_rating_id += 1\n",
    "        \n",
    "        if row.loc[i, 'promo_cw'] != 0:\n",
    "            \n",
    "            current_rating_id -= 1\n",
    "            \n",
    "        if row.loc[i, 'store_id'] != row.loc[i-1, 'store_id']:\n",
    "            \n",
    "            current_rating_id = 1\n",
    "    \n",
    "        result.append(current_rating_id)\n",
    "\n",
    "    promo_id = pd.Series(result)\n",
    "    row['promo_id'] = promo_id\n",
    "    return row.head()"
   ]
  },
  {
   "cell_type": "code",
   "execution_count": 8,
   "metadata": {
    "scrolled": true
   },
   "outputs": [
    {
     "data": {
      "text/html": [
       "<div>\n",
       "<style scoped>\n",
       "    .dataframe tbody tr th:only-of-type {\n",
       "        vertical-align: middle;\n",
       "    }\n",
       "\n",
       "    .dataframe tbody tr th {\n",
       "        vertical-align: top;\n",
       "    }\n",
       "\n",
       "    .dataframe thead th {\n",
       "        text-align: right;\n",
       "    }\n",
       "</style>\n",
       "<table border=\"1\" class=\"dataframe\">\n",
       "  <thead>\n",
       "    <tr style=\"text-align: right;\">\n",
       "      <th></th>\n",
       "      <th>store_id</th>\n",
       "      <th>period_id</th>\n",
       "      <th>sales_volume</th>\n",
       "      <th>promo_cw</th>\n",
       "      <th>promo_id</th>\n",
       "    </tr>\n",
       "  </thead>\n",
       "  <tbody>\n",
       "    <tr>\n",
       "      <th>0</th>\n",
       "      <td>4168621</td>\n",
       "      <td>191</td>\n",
       "      <td>2.25</td>\n",
       "      <td>0</td>\n",
       "      <td>1</td>\n",
       "    </tr>\n",
       "    <tr>\n",
       "      <th>1</th>\n",
       "      <td>4168621</td>\n",
       "      <td>192</td>\n",
       "      <td>6.35</td>\n",
       "      <td>1</td>\n",
       "      <td>1</td>\n",
       "    </tr>\n",
       "    <tr>\n",
       "      <th>2</th>\n",
       "      <td>4168621</td>\n",
       "      <td>193</td>\n",
       "      <td>7.05</td>\n",
       "      <td>2</td>\n",
       "      <td>1</td>\n",
       "    </tr>\n",
       "    <tr>\n",
       "      <th>3</th>\n",
       "      <td>4168621</td>\n",
       "      <td>194</td>\n",
       "      <td>2.50</td>\n",
       "      <td>3</td>\n",
       "      <td>1</td>\n",
       "    </tr>\n",
       "    <tr>\n",
       "      <th>4</th>\n",
       "      <td>4168621</td>\n",
       "      <td>195</td>\n",
       "      <td>1.70</td>\n",
       "      <td>4</td>\n",
       "      <td>1</td>\n",
       "    </tr>\n",
       "  </tbody>\n",
       "</table>\n",
       "</div>"
      ],
      "text/plain": [
       "   store_id  period_id  sales_volume  promo_cw  promo_id\n",
       "0   4168621        191          2.25         0         1\n",
       "1   4168621        192          6.35         1         1\n",
       "2   4168621        193          7.05         2         1\n",
       "3   4168621        194          2.50         3         1\n",
       "4   4168621        195          1.70         4         1"
      ]
     },
     "execution_count": 8,
     "metadata": {},
     "output_type": "execute_result"
    }
   ],
   "source": [
    "promo_id(df)"
   ]
  },
  {
   "cell_type": "markdown",
   "metadata": {},
   "source": [
    "Используя данные фактических продаж необходимо найти:"
   ]
  },
  {
   "cell_type": "markdown",
   "metadata": {},
   "source": [
    "1. Общее количество промопериодов (во всех магазинах)"
   ]
  },
  {
   "cell_type": "code",
   "execution_count": 9,
   "metadata": {},
   "outputs": [
    {
     "data": {
      "text/plain": [
       "140992"
      ]
     },
     "execution_count": 9,
     "metadata": {},
     "output_type": "execute_result"
    }
   ],
   "source": [
    "df[df.promo_cw == 0].count().promo_cw"
   ]
  },
  {
   "cell_type": "markdown",
   "metadata": {},
   "source": [
    "2. Медиану продолжительности промопериода (количество недель)"
   ]
  },
  {
   "cell_type": "code",
   "execution_count": 10,
   "metadata": {},
   "outputs": [],
   "source": [
    "def promo_cw_median(df):\n",
    "    result=[]\n",
    "    for i in range(1, len(df)):\n",
    "        if df.loc[i, 'promo_cw'] <= df.loc[i-1, 'promo_cw']:\n",
    "            result.append(df.loc[i-1, 'promo_cw'])\n",
    "            \n",
    "    result.append(df.loc[i, 'promo_cw'])\n",
    "    \n",
    "    return result"
   ]
  },
  {
   "cell_type": "code",
   "execution_count": 11,
   "metadata": {},
   "outputs": [],
   "source": [
    "promo_cw_median = pd.Series(promo_cw_median(df))"
   ]
  },
  {
   "cell_type": "code",
   "execution_count": 12,
   "metadata": {},
   "outputs": [
    {
     "data": {
      "text/plain": [
       "2.0"
      ]
     },
     "execution_count": 12,
     "metadata": {},
     "output_type": "execute_result"
    }
   ],
   "source": [
    "promo_cw_median.median()"
   ]
  },
  {
   "cell_type": "code",
   "execution_count": 13,
   "metadata": {},
   "outputs": [
    {
     "data": {
      "text/plain": [
       "count    140992.000000\n",
       "mean          5.007362\n",
       "std           7.771902\n",
       "min           0.000000\n",
       "25%           0.000000\n",
       "50%           2.000000\n",
       "75%           6.000000\n",
       "max          51.000000\n",
       "dtype: float64"
      ]
     },
     "execution_count": 13,
     "metadata": {},
     "output_type": "execute_result"
    }
   ],
   "source": [
    "promo_cw_median.describe()"
   ]
  },
  {
   "cell_type": "code",
   "execution_count": 14,
   "metadata": {},
   "outputs": [],
   "source": [
    "%matplotlib inline"
   ]
  },
  {
   "cell_type": "code",
   "execution_count": 15,
   "metadata": {},
   "outputs": [
    {
     "data": {
      "text/plain": [
       "<matplotlib.axes._subplots.AxesSubplot at 0x19ab543dcc0>"
      ]
     },
     "execution_count": 15,
     "metadata": {},
     "output_type": "execute_result"
    },
    {
     "data": {
      "image/png": "[encoded data removed]",
      "text/plain": [
       "<Figure size 432x288 with 1 Axes>"
      ]
     },
     "metadata": {
      "needs_background": "light"
     },
     "output_type": "display_data"
    }
   ],
   "source": [
    "promo_cw_median.hist(bins = 100)"
   ]
  },
  {
   "cell_type": "markdown",
   "metadata": {},
   "source": [
    "Если считать, что нулевая неделя была полной и первой (я заполнял таблицу как в примере), тогда 2 + 1 = 3"
   ]
  },
  {
   "cell_type": "markdown",
   "metadata": {},
   "source": [
    "3. Объем  продаж по каждому промопериоду"
   ]
  },
  {
   "cell_type": "code",
   "execution_count": 16,
   "metadata": {},
   "outputs": [
    {
     "data": {
      "text/plain": [
       "store_id  promo_id\n",
       "4168621   1             86.3500\n",
       "          2              9.9000\n",
       "          3             15.8500\n",
       "          4             18.2000\n",
       "          5             48.3000\n",
       "          6             52.9500\n",
       "4168624   1           1489.3000\n",
       "4168636   1              8.2000\n",
       "          2             30.6500\n",
       "          3             10.2500\n",
       "          4             33.3000\n",
       "          5             35.0000\n",
       "          6             12.2000\n",
       "4168639   1             12.6000\n",
       "          2             59.0500\n",
       "          3              6.6000\n",
       "          4             80.8500\n",
       "          5             26.3000\n",
       "4168645   1            256.9000\n",
       "          2             60.5500\n",
       "4168648   1            109.9500\n",
       "          2             58.1000\n",
       "          3             17.0000\n",
       "          4             36.7500\n",
       "4168651   1             21.8000\n",
       "          2             11.4500\n",
       "          3              2.1500\n",
       "          4              7.3500\n",
       "          5            107.6500\n",
       "          6              5.2500\n",
       "                        ...    \n",
       "38126719  1             14.6000\n",
       "38126722  1              7.3000\n",
       "38126725  1              7.4500\n",
       "38126737  1             11.3985\n",
       "38126740  1              2.0500\n",
       "          2              4.0000\n",
       "38126743  1              4.5500\n",
       "38126755  1              3.3500\n",
       "38126758  1             10.3000\n",
       "38126770  1              1.1500\n",
       "38126782  1              5.2000\n",
       "38126785  1              3.3500\n",
       "38126800  1              1.0000\n",
       "38126803  1              5.9500\n",
       "38126806  1              5.1265\n",
       "38126824  1              2.1500\n",
       "38126827  1             10.3500\n",
       "38126848  1              5.7000\n",
       "38126854  1              6.5250\n",
       "38126863  1             15.1000\n",
       "38126866  1              1.2000\n",
       "38126869  1             18.9515\n",
       "38126884  1              4.6985\n",
       "38126899  1              2.9500\n",
       "          2              6.2000\n",
       "38126908  1              4.8000\n",
       "38126926  1              3.9500\n",
       "38126935  1              0.9500\n",
       "          2              4.6500\n",
       "38126938  1              8.3765\n",
       "Name: sales_volume, Length: 140992, dtype: float64"
      ]
     },
     "execution_count": 16,
     "metadata": {},
     "output_type": "execute_result"
    }
   ],
   "source": [
    "promo_sales_volume = df.groupby(['store_id', 'promo_id']).sales_volume.sum()\n",
    "promo_sales_volume"
   ]
  },
  {
   "cell_type": "markdown",
   "metadata": {},
   "source": [
    "4. Медиану количества промопериодов на один магазин"
   ]
  },
  {
   "cell_type": "code",
   "execution_count": 17,
   "metadata": {},
   "outputs": [
    {
     "data": {
      "text/plain": [
       "3.0"
      ]
     },
     "execution_count": 17,
     "metadata": {},
     "output_type": "execute_result"
    }
   ],
   "source": [
    "df.promo_id.median()"
   ]
  }
 ],
 "metadata": {
  "kernelspec": {
   "display_name": "Python 3",
   "language": "python",
   "name": "python3"
  },
  "language_info": {
   "codemirror_mode": {
    "name": "ipython",
    "version": 3
   },
   "file_extension": ".py",
   "mimetype": "text/x-python",
   "name": "python",
   "nbconvert_exporter": "python",
   "pygments_lexer": "ipython3",
   "version": "3.7.3"
  }
 },
 "nbformat": 4,
 "nbformat_minor": 2
}
