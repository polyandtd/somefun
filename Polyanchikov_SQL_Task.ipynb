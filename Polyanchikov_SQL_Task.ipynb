{
 "cells": [
  {
   "cell_type": "code",
   "execution_count": 1,
   "id": "a8fe8da4",
   "metadata": {},
   "outputs": [],
   "source": [
    "import pandas as pd\n",
    "import sqlalchemy as sa\n",
    "import pyodbc\n",
    "import numpy as np"
   ]
  },
  {
   "cell_type": "code",
   "execution_count": 6,
   "id": "25be4c44",
   "metadata": {},
   "outputs": [],
   "source": [
    "engine = sa.create_engine('mssql+pyodbc://(localdb)\\MSSQLLocalDB/vpolyanchikov?driver=ODBC Driver 17 for SQL Server')"
   ]
  },
  {
   "cell_type": "code",
   "execution_count": 8,
   "id": "1df3f075",
   "metadata": {},
   "outputs": [],
   "source": [
    "def read_sql(query, engine):\n",
    "    df = pd.read_sql_query(query, engine)\n",
    "    engine.dispose()\n",
    "    return df"
   ]
  },
  {
   "cell_type": "code",
   "execution_count": 9,
   "id": "f0f8abc3",
   "metadata": {},
   "outputs": [],
   "source": [
    "def execute_sql(query, engine):\n",
    "    conn = engine.connect()\n",
    "    result = conn.execute(query + \"; commit;\")\n",
    "    engine.dispose()\n",
    "    return result"
   ]
  },
  {
   "cell_type": "code",
   "execution_count": 10,
   "id": "00a1a9ae",
   "metadata": {},
   "outputs": [],
   "source": [
    "def to_sql(df, tables, engine, schema='dbo',if_exist='append'):\n",
    "    df.to_sql(name=tables, con=engine,\n",
    "                  schema=schema, if_exists=if_exist, index=0)\n",
    "    engine.dispose()\n",
    "    return"
   ]
  },
  {
   "cell_type": "markdown",
   "id": "4a5c1da7",
   "metadata": {},
   "source": [
    "![Описание задач (3 и 4)](Задание_3_и_4.png)"
   ]
  },
  {
   "cell_type": "markdown",
   "id": "6b5151be",
   "metadata": {},
   "source": [
    "## Необходимо сделать задачи 3 и 4"
   ]
  },
  {
   "cell_type": "markdown",
   "id": "b0ec7bf8",
   "metadata": {},
   "source": [
    "### Задание 3.\n",
    "\n",
    "#### Ниже наполнение таблиц и запрос"
   ]
  },
  {
   "cell_type": "code",
   "execution_count": 23,
   "id": "83c7f245",
   "metadata": {},
   "outputs": [],
   "source": [
    "dfs = pd.read_excel('dfs.xlsx', sheet_name ='logs3')"
   ]
  },
  {
   "cell_type": "code",
   "execution_count": 24,
   "id": "f06a7163",
   "metadata": {},
   "outputs": [
    {
     "data": {
      "text/html": [
       "<div>\n",
       "<style scoped>\n",
       "    .dataframe tbody tr th:only-of-type {\n",
       "        vertical-align: middle;\n",
       "    }\n",
       "\n",
       "    .dataframe tbody tr th {\n",
       "        vertical-align: top;\n",
       "    }\n",
       "\n",
       "    .dataframe thead th {\n",
       "        text-align: right;\n",
       "    }\n",
       "</style>\n",
       "<table border=\"1\" class=\"dataframe\">\n",
       "  <thead>\n",
       "    <tr style=\"text-align: right;\">\n",
       "      <th></th>\n",
       "      <th>id</th>\n",
       "      <th>id_user</th>\n",
       "      <th>id_examplar</th>\n",
       "      <th>date_took</th>\n",
       "      <th>date_returned</th>\n",
       "    </tr>\n",
       "  </thead>\n",
       "  <tbody>\n",
       "    <tr>\n",
       "      <th>0</th>\n",
       "      <td>1</td>\n",
       "      <td>1</td>\n",
       "      <td>1</td>\n",
       "      <td>2022-08-01</td>\n",
       "      <td>2022-08-01</td>\n",
       "    </tr>\n",
       "    <tr>\n",
       "      <th>1</th>\n",
       "      <td>2</td>\n",
       "      <td>1</td>\n",
       "      <td>2</td>\n",
       "      <td>2022-04-02</td>\n",
       "      <td>2022-04-02</td>\n",
       "    </tr>\n",
       "    <tr>\n",
       "      <th>2</th>\n",
       "      <td>3</td>\n",
       "      <td>1</td>\n",
       "      <td>3</td>\n",
       "      <td>2022-05-03</td>\n",
       "      <td>2022-05-03</td>\n",
       "    </tr>\n",
       "    <tr>\n",
       "      <th>3</th>\n",
       "      <td>4</td>\n",
       "      <td>1</td>\n",
       "      <td>4</td>\n",
       "      <td>2022-08-02</td>\n",
       "      <td>2022-08-02</td>\n",
       "    </tr>\n",
       "    <tr>\n",
       "      <th>4</th>\n",
       "      <td>5</td>\n",
       "      <td>1</td>\n",
       "      <td>1</td>\n",
       "      <td>2020-04-02</td>\n",
       "      <td>2020-04-02</td>\n",
       "    </tr>\n",
       "    <tr>\n",
       "      <th>5</th>\n",
       "      <td>6</td>\n",
       "      <td>1</td>\n",
       "      <td>5</td>\n",
       "      <td>2021-05-03</td>\n",
       "      <td>2021-05-03</td>\n",
       "    </tr>\n",
       "    <tr>\n",
       "      <th>6</th>\n",
       "      <td>7</td>\n",
       "      <td>2</td>\n",
       "      <td>1</td>\n",
       "      <td>2022-04-04</td>\n",
       "      <td>2022-04-04</td>\n",
       "    </tr>\n",
       "    <tr>\n",
       "      <th>7</th>\n",
       "      <td>8</td>\n",
       "      <td>2</td>\n",
       "      <td>1</td>\n",
       "      <td>2022-12-05</td>\n",
       "      <td>2022-12-05</td>\n",
       "    </tr>\n",
       "    <tr>\n",
       "      <th>8</th>\n",
       "      <td>9</td>\n",
       "      <td>2</td>\n",
       "      <td>4</td>\n",
       "      <td>2022-08-06</td>\n",
       "      <td>2022-08-06</td>\n",
       "    </tr>\n",
       "    <tr>\n",
       "      <th>9</th>\n",
       "      <td>10</td>\n",
       "      <td>2</td>\n",
       "      <td>3</td>\n",
       "      <td>2022-04-04</td>\n",
       "      <td>2022-04-04</td>\n",
       "    </tr>\n",
       "    <tr>\n",
       "      <th>10</th>\n",
       "      <td>11</td>\n",
       "      <td>2</td>\n",
       "      <td>5</td>\n",
       "      <td>2022-11-03</td>\n",
       "      <td>2022-11-03</td>\n",
       "    </tr>\n",
       "    <tr>\n",
       "      <th>11</th>\n",
       "      <td>12</td>\n",
       "      <td>2</td>\n",
       "      <td>4</td>\n",
       "      <td>2022-08-06</td>\n",
       "      <td>2022-08-06</td>\n",
       "    </tr>\n",
       "    <tr>\n",
       "      <th>12</th>\n",
       "      <td>13</td>\n",
       "      <td>3</td>\n",
       "      <td>4</td>\n",
       "      <td>2022-08-07</td>\n",
       "      <td>2022-08-07</td>\n",
       "    </tr>\n",
       "    <tr>\n",
       "      <th>13</th>\n",
       "      <td>14</td>\n",
       "      <td>3</td>\n",
       "      <td>3</td>\n",
       "      <td>2022-03-08</td>\n",
       "      <td>2022-03-08</td>\n",
       "    </tr>\n",
       "    <tr>\n",
       "      <th>14</th>\n",
       "      <td>15</td>\n",
       "      <td>3</td>\n",
       "      <td>3</td>\n",
       "      <td>2022-01-09</td>\n",
       "      <td>2022-01-09</td>\n",
       "    </tr>\n",
       "    <tr>\n",
       "      <th>15</th>\n",
       "      <td>16</td>\n",
       "      <td>3</td>\n",
       "      <td>2</td>\n",
       "      <td>2022-04-07</td>\n",
       "      <td>2022-04-07</td>\n",
       "    </tr>\n",
       "    <tr>\n",
       "      <th>16</th>\n",
       "      <td>17</td>\n",
       "      <td>3</td>\n",
       "      <td>5</td>\n",
       "      <td>2022-08-08</td>\n",
       "      <td>2022-08-08</td>\n",
       "    </tr>\n",
       "    <tr>\n",
       "      <th>17</th>\n",
       "      <td>18</td>\n",
       "      <td>3</td>\n",
       "      <td>3</td>\n",
       "      <td>2022-12-09</td>\n",
       "      <td>2022-12-09</td>\n",
       "    </tr>\n",
       "  </tbody>\n",
       "</table>\n",
       "</div>"
      ],
      "text/plain": [
       "    id  id_user  id_examplar  date_took date_returned\n",
       "0    1        1            1 2022-08-01    2022-08-01\n",
       "1    2        1            2 2022-04-02    2022-04-02\n",
       "2    3        1            3 2022-05-03    2022-05-03\n",
       "3    4        1            4 2022-08-02    2022-08-02\n",
       "4    5        1            1 2020-04-02    2020-04-02\n",
       "5    6        1            5 2021-05-03    2021-05-03\n",
       "6    7        2            1 2022-04-04    2022-04-04\n",
       "7    8        2            1 2022-12-05    2022-12-05\n",
       "8    9        2            4 2022-08-06    2022-08-06\n",
       "9   10        2            3 2022-04-04    2022-04-04\n",
       "10  11        2            5 2022-11-03    2022-11-03\n",
       "11  12        2            4 2022-08-06    2022-08-06\n",
       "12  13        3            4 2022-08-07    2022-08-07\n",
       "13  14        3            3 2022-03-08    2022-03-08\n",
       "14  15        3            3 2022-01-09    2022-01-09\n",
       "15  16        3            2 2022-04-07    2022-04-07\n",
       "16  17        3            5 2022-08-08    2022-08-08\n",
       "17  18        3            3 2022-12-09    2022-12-09"
      ]
     },
     "execution_count": 24,
     "metadata": {},
     "output_type": "execute_result"
    }
   ],
   "source": [
    "dfs"
   ]
  },
  {
   "cell_type": "code",
   "execution_count": 28,
   "id": "a3190616",
   "metadata": {},
   "outputs": [
    {
     "name": "stdout",
     "output_type": "stream",
     "text": [
      "<class 'pandas.core.frame.DataFrame'>\n",
      "RangeIndex: 18 entries, 0 to 17\n",
      "Data columns (total 5 columns):\n",
      " #   Column         Non-Null Count  Dtype         \n",
      "---  ------         --------------  -----         \n",
      " 0   id             18 non-null     int64         \n",
      " 1   id_user        18 non-null     int64         \n",
      " 2   id_examplar    18 non-null     int64         \n",
      " 3   date_took      18 non-null     datetime64[ns]\n",
      " 4   date_returned  18 non-null     datetime64[ns]\n",
      "dtypes: datetime64[ns](2), int64(3)\n",
      "memory usage: 848.0 bytes\n"
     ]
    }
   ],
   "source": [
    "dfs.info()"
   ]
  },
  {
   "cell_type": "code",
   "execution_count": 25,
   "id": "3e097b61",
   "metadata": {},
   "outputs": [
    {
     "data": {
      "text/plain": [
       "<sqlalchemy.engine.cursor.LegacyCursorResult at 0x1c4b5afe9d0>"
      ]
     },
     "execution_count": 25,
     "metadata": {},
     "output_type": "execute_result"
    }
   ],
   "source": [
    "execute_sql(\"\"\"CREATE TABLE logs3\n",
    "                (id int primary key,\n",
    "                id_user int,\n",
    "                id_examplar int,\n",
    "                date_took datetime,\n",
    "                date_returned datetime)\n",
    "                \"\"\", engine)"
   ]
  },
  {
   "cell_type": "code",
   "execution_count": 29,
   "id": "74d4fe06",
   "metadata": {},
   "outputs": [],
   "source": [
    "to_sql(dfs, 'logs3', engine)"
   ]
  },
  {
   "cell_type": "code",
   "execution_count": 30,
   "id": "482ef4f9",
   "metadata": {},
   "outputs": [],
   "source": [
    "df_3 = read_sql(\"\"\"WITH a AS\n",
    "  (SELECT id_examplar,\n",
    "          date_took,\n",
    "          id_user,\n",
    "          ROW_NUMBER() OVER(PARTITION BY id_user\n",
    "                            ORDER BY date_took DESC) [row_number]\n",
    "   FROM dbo.logs3) \n",
    "SELECT id_examplar ,\n",
    "       count(id_examplar) AS cnt_times_taken\n",
    "FROM dbo.logs3\n",
    "WHERE id_examplar in\n",
    "    (SELECT id_examplar\n",
    "     FROM a\n",
    "     WHERE row_number in (1, 2, 3))\n",
    "GROUP BY id_examplar\n",
    "ORDER BY cnt_times_taken DESC;\"\"\", engine)"
   ]
  },
  {
   "cell_type": "code",
   "execution_count": 31,
   "id": "d645e87c",
   "metadata": {},
   "outputs": [
    {
     "data": {
      "text/html": [
       "<div>\n",
       "<style scoped>\n",
       "    .dataframe tbody tr th:only-of-type {\n",
       "        vertical-align: middle;\n",
       "    }\n",
       "\n",
       "    .dataframe tbody tr th {\n",
       "        vertical-align: top;\n",
       "    }\n",
       "\n",
       "    .dataframe thead th {\n",
       "        text-align: right;\n",
       "    }\n",
       "</style>\n",
       "<table border=\"1\" class=\"dataframe\">\n",
       "  <thead>\n",
       "    <tr style=\"text-align: right;\">\n",
       "      <th></th>\n",
       "      <th>id_examplar</th>\n",
       "      <th>cnt_times_taken</th>\n",
       "    </tr>\n",
       "  </thead>\n",
       "  <tbody>\n",
       "    <tr>\n",
       "      <th>0</th>\n",
       "      <td>3</td>\n",
       "      <td>5</td>\n",
       "    </tr>\n",
       "    <tr>\n",
       "      <th>1</th>\n",
       "      <td>4</td>\n",
       "      <td>4</td>\n",
       "    </tr>\n",
       "    <tr>\n",
       "      <th>2</th>\n",
       "      <td>1</td>\n",
       "      <td>4</td>\n",
       "    </tr>\n",
       "    <tr>\n",
       "      <th>3</th>\n",
       "      <td>5</td>\n",
       "      <td>3</td>\n",
       "    </tr>\n",
       "  </tbody>\n",
       "</table>\n",
       "</div>"
      ],
      "text/plain": [
       "   id_examplar  cnt_times_taken\n",
       "0            3                5\n",
       "1            4                4\n",
       "2            1                4\n",
       "3            5                3"
      ]
     },
     "execution_count": 31,
     "metadata": {},
     "output_type": "execute_result"
    }
   ],
   "source": [
    "df_3"
   ]
  },
  {
   "cell_type": "markdown",
   "id": "42def140",
   "metadata": {},
   "source": [
    "### Задание 4. \n",
    "\n",
    "#### Ниже наполнение таблиц и запрос"
   ]
  },
  {
   "cell_type": "code",
   "execution_count": 11,
   "id": "45559ef0",
   "metadata": {},
   "outputs": [],
   "source": [
    "df = pd.read_excel('dfs.xlsx', sheet_name ='logs')"
   ]
  },
  {
   "cell_type": "code",
   "execution_count": 12,
   "id": "1d1997f1",
   "metadata": {},
   "outputs": [
    {
     "data": {
      "text/html": [
       "<div>\n",
       "<style scoped>\n",
       "    .dataframe tbody tr th:only-of-type {\n",
       "        vertical-align: middle;\n",
       "    }\n",
       "\n",
       "    .dataframe tbody tr th {\n",
       "        vertical-align: top;\n",
       "    }\n",
       "\n",
       "    .dataframe thead th {\n",
       "        text-align: right;\n",
       "    }\n",
       "</style>\n",
       "<table border=\"1\" class=\"dataframe\">\n",
       "  <thead>\n",
       "    <tr style=\"text-align: right;\">\n",
       "      <th></th>\n",
       "      <th>id</th>\n",
       "      <th>id_user</th>\n",
       "      <th>id_examplar</th>\n",
       "      <th>date_took</th>\n",
       "      <th>date_returned</th>\n",
       "    </tr>\n",
       "  </thead>\n",
       "  <tbody>\n",
       "    <tr>\n",
       "      <th>0</th>\n",
       "      <td>1</td>\n",
       "      <td>1</td>\n",
       "      <td>1</td>\n",
       "      <td>2022-08-01</td>\n",
       "      <td>2022-08-01</td>\n",
       "    </tr>\n",
       "    <tr>\n",
       "      <th>1</th>\n",
       "      <td>2</td>\n",
       "      <td>1</td>\n",
       "      <td>2</td>\n",
       "      <td>2022-04-02</td>\n",
       "      <td>2022-04-02</td>\n",
       "    </tr>\n",
       "    <tr>\n",
       "      <th>2</th>\n",
       "      <td>3</td>\n",
       "      <td>1</td>\n",
       "      <td>3</td>\n",
       "      <td>2022-05-03</td>\n",
       "      <td>2022-05-03</td>\n",
       "    </tr>\n",
       "    <tr>\n",
       "      <th>3</th>\n",
       "      <td>4</td>\n",
       "      <td>2</td>\n",
       "      <td>1</td>\n",
       "      <td>2022-04-04</td>\n",
       "      <td>2022-04-04</td>\n",
       "    </tr>\n",
       "    <tr>\n",
       "      <th>4</th>\n",
       "      <td>5</td>\n",
       "      <td>2</td>\n",
       "      <td>1</td>\n",
       "      <td>2022-12-05</td>\n",
       "      <td>2022-12-05</td>\n",
       "    </tr>\n",
       "    <tr>\n",
       "      <th>5</th>\n",
       "      <td>6</td>\n",
       "      <td>2</td>\n",
       "      <td>4</td>\n",
       "      <td>2022-08-06</td>\n",
       "      <td>2022-08-06</td>\n",
       "    </tr>\n",
       "    <tr>\n",
       "      <th>6</th>\n",
       "      <td>7</td>\n",
       "      <td>3</td>\n",
       "      <td>1</td>\n",
       "      <td>2022-08-07</td>\n",
       "      <td>2022-08-07</td>\n",
       "    </tr>\n",
       "    <tr>\n",
       "      <th>7</th>\n",
       "      <td>8</td>\n",
       "      <td>3</td>\n",
       "      <td>2</td>\n",
       "      <td>2022-03-08</td>\n",
       "      <td>2022-03-08</td>\n",
       "    </tr>\n",
       "    <tr>\n",
       "      <th>8</th>\n",
       "      <td>9</td>\n",
       "      <td>3</td>\n",
       "      <td>3</td>\n",
       "      <td>2022-01-09</td>\n",
       "      <td>2022-01-09</td>\n",
       "    </tr>\n",
       "    <tr>\n",
       "      <th>9</th>\n",
       "      <td>10</td>\n",
       "      <td>4</td>\n",
       "      <td>4</td>\n",
       "      <td>2022-08-10</td>\n",
       "      <td>2022-08-10</td>\n",
       "    </tr>\n",
       "    <tr>\n",
       "      <th>10</th>\n",
       "      <td>11</td>\n",
       "      <td>4</td>\n",
       "      <td>5</td>\n",
       "      <td>2022-08-11</td>\n",
       "      <td>2022-08-11</td>\n",
       "    </tr>\n",
       "    <tr>\n",
       "      <th>11</th>\n",
       "      <td>12</td>\n",
       "      <td>4</td>\n",
       "      <td>2</td>\n",
       "      <td>2022-11-12</td>\n",
       "      <td>2022-11-12</td>\n",
       "    </tr>\n",
       "  </tbody>\n",
       "</table>\n",
       "</div>"
      ],
      "text/plain": [
       "    id  id_user  id_examplar  date_took date_returned\n",
       "0    1        1            1 2022-08-01    2022-08-01\n",
       "1    2        1            2 2022-04-02    2022-04-02\n",
       "2    3        1            3 2022-05-03    2022-05-03\n",
       "3    4        2            1 2022-04-04    2022-04-04\n",
       "4    5        2            1 2022-12-05    2022-12-05\n",
       "5    6        2            4 2022-08-06    2022-08-06\n",
       "6    7        3            1 2022-08-07    2022-08-07\n",
       "7    8        3            2 2022-03-08    2022-03-08\n",
       "8    9        3            3 2022-01-09    2022-01-09\n",
       "9   10        4            4 2022-08-10    2022-08-10\n",
       "10  11        4            5 2022-08-11    2022-08-11\n",
       "11  12        4            2 2022-11-12    2022-11-12"
      ]
     },
     "execution_count": 12,
     "metadata": {},
     "output_type": "execute_result"
    }
   ],
   "source": [
    "df"
   ]
  },
  {
   "cell_type": "code",
   "execution_count": 13,
   "id": "0972909d",
   "metadata": {},
   "outputs": [
    {
     "data": {
      "text/plain": [
       "<sqlalchemy.engine.cursor.LegacyCursorResult at 0x1c4b57df7f0>"
      ]
     },
     "execution_count": 13,
     "metadata": {},
     "output_type": "execute_result"
    }
   ],
   "source": [
    "execute_sql(\"\"\"CREATE TABLE logs4\n",
    "                (id int primary key,\n",
    "                id_user int,\n",
    "                id_examplar int,\n",
    "                date_took datetime,\n",
    "                date_returned datetime)\n",
    "                \"\"\", engine)"
   ]
  },
  {
   "cell_type": "code",
   "execution_count": 14,
   "id": "b1ab9499",
   "metadata": {},
   "outputs": [],
   "source": [
    "to_sql(df, 'logs4', engine)"
   ]
  },
  {
   "cell_type": "code",
   "execution_count": 15,
   "id": "440449c3",
   "metadata": {},
   "outputs": [],
   "source": [
    "df = pd.read_excel('dfs.xlsx', sheet_name ='articles')"
   ]
  },
  {
   "cell_type": "code",
   "execution_count": 16,
   "id": "ad067072",
   "metadata": {},
   "outputs": [
    {
     "data": {
      "text/html": [
       "<div>\n",
       "<style scoped>\n",
       "    .dataframe tbody tr th:only-of-type {\n",
       "        vertical-align: middle;\n",
       "    }\n",
       "\n",
       "    .dataframe tbody tr th {\n",
       "        vertical-align: top;\n",
       "    }\n",
       "\n",
       "    .dataframe thead th {\n",
       "        text-align: right;\n",
       "    }\n",
       "</style>\n",
       "<table border=\"1\" class=\"dataframe\">\n",
       "  <thead>\n",
       "    <tr style=\"text-align: right;\">\n",
       "      <th></th>\n",
       "      <th>id</th>\n",
       "      <th>id_article</th>\n",
       "      <th>inventory_no</th>\n",
       "      <th>price</th>\n",
       "    </tr>\n",
       "  </thead>\n",
       "  <tbody>\n",
       "    <tr>\n",
       "      <th>0</th>\n",
       "      <td>1</td>\n",
       "      <td>bc3</td>\n",
       "      <td>123</td>\n",
       "      <td>500</td>\n",
       "    </tr>\n",
       "    <tr>\n",
       "      <th>1</th>\n",
       "      <td>2</td>\n",
       "      <td>ab1</td>\n",
       "      <td>345</td>\n",
       "      <td>500</td>\n",
       "    </tr>\n",
       "    <tr>\n",
       "      <th>2</th>\n",
       "      <td>3</td>\n",
       "      <td>de7</td>\n",
       "      <td>64</td>\n",
       "      <td>500</td>\n",
       "    </tr>\n",
       "    <tr>\n",
       "      <th>3</th>\n",
       "      <td>4</td>\n",
       "      <td>fg4</td>\n",
       "      <td>5464</td>\n",
       "      <td>500</td>\n",
       "    </tr>\n",
       "    <tr>\n",
       "      <th>4</th>\n",
       "      <td>5</td>\n",
       "      <td>st5</td>\n",
       "      <td>345</td>\n",
       "      <td>500</td>\n",
       "    </tr>\n",
       "  </tbody>\n",
       "</table>\n",
       "</div>"
      ],
      "text/plain": [
       "   id id_article  inventory_no  price\n",
       "0   1        bc3           123    500\n",
       "1   2        ab1           345    500\n",
       "2   3        de7            64    500\n",
       "3   4        fg4          5464    500\n",
       "4   5        st5           345    500"
      ]
     },
     "execution_count": 16,
     "metadata": {},
     "output_type": "execute_result"
    }
   ],
   "source": [
    "df"
   ]
  },
  {
   "cell_type": "code",
   "execution_count": 17,
   "id": "cc2dbbe0",
   "metadata": {},
   "outputs": [
    {
     "name": "stdout",
     "output_type": "stream",
     "text": [
      "<class 'pandas.core.frame.DataFrame'>\n",
      "RangeIndex: 5 entries, 0 to 4\n",
      "Data columns (total 4 columns):\n",
      " #   Column        Non-Null Count  Dtype \n",
      "---  ------        --------------  ----- \n",
      " 0   id            5 non-null      int64 \n",
      " 1   id_article    5 non-null      object\n",
      " 2   inventory_no  5 non-null      int64 \n",
      " 3   price         5 non-null      int64 \n",
      "dtypes: int64(3), object(1)\n",
      "memory usage: 288.0+ bytes\n"
     ]
    }
   ],
   "source": [
    "df.info()"
   ]
  },
  {
   "cell_type": "code",
   "execution_count": 18,
   "id": "23d08181",
   "metadata": {},
   "outputs": [
    {
     "data": {
      "text/plain": [
       "<sqlalchemy.engine.cursor.LegacyCursorResult at 0x1c4b27181f0>"
      ]
     },
     "execution_count": 18,
     "metadata": {},
     "output_type": "execute_result"
    }
   ],
   "source": [
    "execute_sql(\"\"\"CREATE TABLE examplars4\n",
    "                (id int primary key,\n",
    "                id_article varchar(30),\n",
    "                inventory_no int,\n",
    "                price int)\n",
    "                \"\"\", engine)"
   ]
  },
  {
   "cell_type": "code",
   "execution_count": 19,
   "id": "55dc8ffe",
   "metadata": {},
   "outputs": [],
   "source": [
    "to_sql(df, 'examplars4', engine)"
   ]
  },
  {
   "cell_type": "markdown",
   "id": "56de2311",
   "metadata": {},
   "source": [
    "#### Результирующий запрос для задачи 4"
   ]
  },
  {
   "cell_type": "code",
   "execution_count": 20,
   "id": "be44f99b",
   "metadata": {},
   "outputs": [],
   "source": [
    "df_4 = read_sql(\"\"\"WITH a AS\n",
    "  (SELECT id_examplar ,\n",
    "          COUNT(id_examplar) OVER(PARTITION BY id_examplar) AS used_in_summer\n",
    "   FROM dbo.logs4\n",
    "   WHERE month(date_took) in (6, 7, 8))\n",
    "SELECT id_article\n",
    "FROM dbo.examplars4\n",
    "WHERE id not in\n",
    "    (SELECT DISTINCT id_examplar\n",
    "     FROM a);\"\"\", engine)"
   ]
  },
  {
   "cell_type": "code",
   "execution_count": 21,
   "id": "8e041891",
   "metadata": {},
   "outputs": [
    {
     "data": {
      "text/html": [
       "<div>\n",
       "<style scoped>\n",
       "    .dataframe tbody tr th:only-of-type {\n",
       "        vertical-align: middle;\n",
       "    }\n",
       "\n",
       "    .dataframe tbody tr th {\n",
       "        vertical-align: top;\n",
       "    }\n",
       "\n",
       "    .dataframe thead th {\n",
       "        text-align: right;\n",
       "    }\n",
       "</style>\n",
       "<table border=\"1\" class=\"dataframe\">\n",
       "  <thead>\n",
       "    <tr style=\"text-align: right;\">\n",
       "      <th></th>\n",
       "      <th>id_article</th>\n",
       "    </tr>\n",
       "  </thead>\n",
       "  <tbody>\n",
       "    <tr>\n",
       "      <th>0</th>\n",
       "      <td>ab1</td>\n",
       "    </tr>\n",
       "    <tr>\n",
       "      <th>1</th>\n",
       "      <td>de7</td>\n",
       "    </tr>\n",
       "  </tbody>\n",
       "</table>\n",
       "</div>"
      ],
      "text/plain": [
       "  id_article\n",
       "0        ab1\n",
       "1        de7"
      ]
     },
     "execution_count": 21,
     "metadata": {},
     "output_type": "execute_result"
    }
   ],
   "source": [
    "df_4"
   ]
  }
 ],
 "metadata": {
  "kernelspec": {
   "display_name": "Python 3",
   "language": "python",
   "name": "python3"
  },
  "language_info": {
   "codemirror_mode": {
    "name": "ipython",
    "version": 3
   },
   "file_extension": ".py",
   "mimetype": "text/x-python",
   "name": "python",
   "nbconvert_exporter": "python",
   "pygments_lexer": "ipython3",
   "version": "3.8.8"
  }
 },
 "nbformat": 4,
 "nbformat_minor": 5
}
